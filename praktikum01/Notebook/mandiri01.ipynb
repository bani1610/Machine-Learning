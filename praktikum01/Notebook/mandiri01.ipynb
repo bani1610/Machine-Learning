{
 "cells": [
  {
   "cell_type": "code",
   "execution_count": 2,
   "id": "6283b57f",
   "metadata": {},
   "outputs": [
    {
     "name": "stdout",
     "output_type": "stream",
     "text": [
      "Membaca file 'hour.csv'...\n",
      "5 baris pertama dari dataset 'hour.csv':\n",
      "   instant      dteday  season  yr  mnth  hr  holiday  weekday  workingday  \\\n",
      "0        1  2011-01-01       1   0     1   0        0        6           0   \n",
      "1        2  2011-01-01       1   0     1   1        0        6           0   \n",
      "2        3  2011-01-01       1   0     1   2        0        6           0   \n",
      "3        4  2011-01-01       1   0     1   3        0        6           0   \n",
      "4        5  2011-01-01       1   0     1   4        0        6           0   \n",
      "\n",
      "   weathersit  temp   atemp   hum  windspeed  casual  registered  cnt  \n",
      "0           1  0.24  0.2879  0.81        0.0       3          13   16  \n",
      "1           1  0.22  0.2727  0.80        0.0       8          32   40  \n",
      "2           1  0.22  0.2727  0.80        0.0       5          27   32  \n",
      "3           1  0.24  0.2879  0.75        0.0       3          10   13  \n",
      "4           1  0.24  0.2879  0.75        0.0       0           1    1  \n",
      "--------------------------------------------------\n",
      "\n",
      "Membuat DataFrame baru (df1)...\n",
      "5 baris pertama dari DataFrame baru (df1):\n",
      "   instant      dteday  season      temp       hum  windspeed\n",
      "0        1  2011-01-01       1  0.344167  0.805833   0.160446\n",
      "1        2  2011-01-02       1  0.363478  0.696087   0.248539\n",
      "2        3  2011-01-03       1  0.196364  0.437273   0.248309\n",
      "3        4  2011-01-04       1  0.200000  0.590435   0.160296\n",
      "4        5  2011-01-05       1  0.226957  0.436957   0.186900\n",
      "--------------------------------------------------\n",
      "\n",
      "DataFrame baru berhasil disimpan di: ../Data/latihan01.csv\n"
     ]
    }
   ],
   "source": [
    "import pandas as pd\n",
    "\n",
    "# --- LANGKAH 1: Latihan baca file dataset lainnya ---\n",
    "print(\"Membaca file 'hour.csv'...\")\n",
    "\n",
    "df_hour = pd.read_csv('../Data/hour.csv')\n",
    "print(\"5 baris pertama dari dataset 'hour.csv':\")\n",
    "print(df_hour.head())\n",
    "print(\"-\" * 50) \n",
    "\n",
    "# --- LANGKAH 2: Buat dataframe baru (df1) dari dataframe sebelumnya ---\n",
    "print(\"\\nMembuat DataFrame baru (df1)...\")\n",
    "# Memuat dataframe dari latihan sebelumnya\n",
    "df_day = pd.read_csv('../Data/day.csv')\n",
    "\n",
    "columns_to_select = ['instant', 'dteday', 'season', 'temp', 'hum', 'windspeed']\n",
    "df1 = df_day[columns_to_select]\n",
    "\n",
    "# --- LANGKAH 3: Cetak dataframe baru ---\n",
    "print(\"5 baris pertama dari DataFrame baru (df1):\")\n",
    "print(df1.head())\n",
    "print(\"-\" * 50)\n",
    "\n",
    "# --- LANGKAH 4: Simpan dataframe baru ke file CSV ---\n",
    "output_path = '../Data/latihan01.csv'\n",
    "\n",
    "df1.to_csv(output_path, index=False)\n",
    "\n",
    "print(f\"\\nDataFrame baru berhasil disimpan di: {output_path}\")"
   ]
  }
 ],
 "metadata": {
  "kernelspec": {
   "display_name": "Python 3",
   "language": "python",
   "name": "python3"
  },
  "language_info": {
   "codemirror_mode": {
    "name": "ipython",
    "version": 3
   },
   "file_extension": ".py",
   "mimetype": "text/x-python",
   "name": "python",
   "nbconvert_exporter": "python",
   "pygments_lexer": "ipython3",
   "version": "3.10.8"
  }
 },
 "nbformat": 4,
 "nbformat_minor": 5
}
